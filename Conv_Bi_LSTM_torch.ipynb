{
 "cells": [
  {
   "cell_type": "code",
   "execution_count": 3,
   "source": [
    "import torch\r\n",
    "import torchvision\r\n",
    "import torch.nn.functional as F\r\n",
    "import torchvision.transforms as transforms\r\n",
    "from torch import optim\r\n",
    "from torch import nn\r\n",
    "from torch.utils.data import DataLoader\r\n",
    "import pandas as pd\r\n",
    "import numpy as np\r\n",
    "from torch.utils.data import Dataset\r\n",
    "from torchinfo import summary\r\n",
    "\r\n",
    "#from helper_functions import *\r\n",
    "import matplotlib.pyplot as plt\r\n",
    "%matplotlib inline\r\n",
    "plt.rcParams['figure.figsize'] = (15.0, 7.0)\r\n",
    "\r\n",
    "from helper_torch import *"
   ],
   "outputs": [],
   "metadata": {}
  },
  {
   "cell_type": "code",
   "execution_count": 32,
   "source": [
    "class Conv_Bi_LSTM(nn.Module):\r\n",
    "    def __init__(self, nfeat_x, nfeat_y, window_in, window_out):\r\n",
    "        super().__init__()\r\n",
    "        self.bilstm1 = nn.LSTM(input_size=nfeat_x, hidden_size=128, batch_first=True, bidirectional=True, dropout=0.5)\r\n",
    "        self.conv1 = nn.Conv1d(in_channels=7, out_channels=7, kernel_size=64)\r\n",
    "        self.bilstm2 = nn.LSTM(input_size=(256 -63), hidden_size=256, batch_first=True, bidirectional=True, dropout=0.5)\r\n",
    "        self.conv2 = nn.Conv1d(in_channels=7, out_channels=7, kernel_size=128)\r\n",
    "        self.bilstm3 = nn.LSTM(input_size=(256*2 - 127), hidden_size=128, batch_first=True, bidirectional=True, dropout=0.5)\r\n",
    "        self.conv3=nn.Conv1d(in_channels=7, out_channels=7, kernel_size=64)\r\n",
    "        self.relu = nn.ReLU()\r\n",
    "        self.selu = nn.SELU()\r\n",
    "        self.fc = nn.Linear(window_in * 193, nfeat_y * window_out)\r\n",
    "\r\n",
    "        self.yfeat = nfeat_y\r\n",
    "        self.xfeat = nfeat_x\r\n",
    "        self.win_in = window_in\r\n",
    "        self.win_out = window_out\r\n",
    "\r\n",
    "    def forward(self, x):\r\n",
    "        #print('x.shape: ', x.shape)\r\n",
    "        x, _ = self.bilstm1(x)\r\n",
    "        #print('bilstm1: ', x.shape)\r\n",
    "        x = self.conv1(x)\r\n",
    "        x = self.selu(x)\r\n",
    "        #print('conv1 ',x.shape)\r\n",
    "        x, _ = self.bilstm2(x)\r\n",
    "        #print('bilstm2', x.shape)\r\n",
    "        x = self.conv2(x)\r\n",
    "        #print('conv2: ', x.shape)\r\n",
    "        x = self.selu(x)\r\n",
    "        x, _ = self.bilstm3(x)\r\n",
    "        #print('bisltm3:', x.shape)\r\n",
    "        x = self.conv3(x)\r\n",
    "        x = self.relu(x)\r\n",
    "        #print('conv3: ', x.shape)\r\n",
    "        x = x.reshape((x.shape[0], -1))\r\n",
    "        #print(\"x.reshape: \", x.shape)\r\n",
    "        x = self.fc(x)\r\n",
    "        #print('fc: ', x.shape)\r\n",
    "        y = x.reshape((x.shape[0], self.win_out, self.yfeat))\r\n",
    "        #print('final', y.shape)\r\n",
    "\r\n",
    "        \r\n",
    "        return y\r\n",
    "\r\n",
    "\r\n",
    "\r\n"
   ],
   "outputs": [],
   "metadata": {}
  },
  {
   "cell_type": "code",
   "execution_count": 33,
   "source": [
    "model = Conv_Bi_LSTM(nfeat_x=4, nfeat_y=3, window_in=7, window_out=2)\r\n",
    "summary(model, (1,7,4))\r\n"
   ],
   "outputs": [
    {
     "output_type": "stream",
     "name": "stderr",
     "text": [
      "C:\\Users\\matha\\anaconda3\\envs\\pytorch\\lib\\site-packages\\torch\\nn\\modules\\rnn.py:62: UserWarning: dropout option adds dropout after all but last recurrent layer, so non-zero dropout expects num_layers greater than 1, but got dropout=0.5 and num_layers=1\n",
      "  warnings.warn(\"dropout option adds dropout after all but last \"\n"
     ]
    },
    {
     "output_type": "execute_result",
     "data": {
      "text/plain": [
       "==========================================================================================\n",
       "Layer (type:depth-idx)                   Output Shape              Param #\n",
       "==========================================================================================\n",
       "Conv_Bi_LSTM                             --                        --\n",
       "├─LSTM: 1-1                              [1, 7, 256]               137,216\n",
       "├─Conv1d: 1-2                            [1, 7, 193]               3,143\n",
       "├─SELU: 1-3                              [1, 7, 193]               --\n",
       "├─LSTM: 1-4                              [1, 7, 512]               923,648\n",
       "├─Conv1d: 1-5                            [1, 7, 385]               6,279\n",
       "├─SELU: 1-6                              [1, 7, 385]               --\n",
       "├─LSTM: 1-7                              [1, 7, 256]               527,360\n",
       "├─Conv1d: 1-8                            [1, 7, 193]               3,143\n",
       "├─ReLU: 1-9                              [1, 7, 193]               --\n",
       "├─Linear: 1-10                           [1, 6]                    8,112\n",
       "==========================================================================================\n",
       "Total params: 1,608,901\n",
       "Trainable params: 1,608,901\n",
       "Non-trainable params: 0\n",
       "Total mult-adds (M): 14.76\n",
       "==========================================================================================\n",
       "Input size (MB): 0.00\n",
       "Forward/backward pass size (MB): 0.10\n",
       "Params size (MB): 6.44\n",
       "Estimated Total Size (MB): 6.54\n",
       "=========================================================================================="
      ]
     },
     "metadata": {},
     "execution_count": 33
    }
   ],
   "metadata": {}
  },
  {
   "cell_type": "code",
   "execution_count": null,
   "source": [],
   "outputs": [],
   "metadata": {}
  }
 ],
 "metadata": {
  "orig_nbformat": 4,
  "language_info": {
   "name": "python",
   "version": "3.8.10",
   "mimetype": "text/x-python",
   "codemirror_mode": {
    "name": "ipython",
    "version": 3
   },
   "pygments_lexer": "ipython3",
   "nbconvert_exporter": "python",
   "file_extension": ".py"
  },
  "kernelspec": {
   "name": "python3",
   "display_name": "Python 3.8.10 64-bit ('pytorch': conda)"
  },
  "interpreter": {
   "hash": "a64cc5d633a46dba4f37b3d299661fe29034eb81d3eed8181da436288122166c"
  }
 },
 "nbformat": 4,
 "nbformat_minor": 2
}