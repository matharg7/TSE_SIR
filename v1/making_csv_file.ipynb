{
 "cells": [
  {
   "cell_type": "code",
   "execution_count": 1,
   "source": [
    "import pandas as pd\r\n",
    "import numpy as np\r\n",
    "import matplotlib.pyplot as plt"
   ],
   "outputs": [],
   "metadata": {}
  },
  {
   "cell_type": "code",
   "execution_count": 5,
   "source": [
    "df = pd.DataFrame(columns = ['Day', 'Cumulative True Cases', 'Free', 'Quarentined',\r\n",
    "       'Isolated', 'Hospitalized', 'ICU', 'Recoveries', 'Deaths',\r\n",
    "       'Rough Repo Number', 'Positively Tested', 'Negative Tested','CR'])"
   ],
   "outputs": [],
   "metadata": {}
  },
  {
   "cell_type": "code",
   "execution_count": 6,
   "source": [
    "df"
   ],
   "outputs": [
    {
     "output_type": "execute_result",
     "data": {
      "text/html": [
       "<div>\n",
       "<style scoped>\n",
       "    .dataframe tbody tr th:only-of-type {\n",
       "        vertical-align: middle;\n",
       "    }\n",
       "\n",
       "    .dataframe tbody tr th {\n",
       "        vertical-align: top;\n",
       "    }\n",
       "\n",
       "    .dataframe thead th {\n",
       "        text-align: right;\n",
       "    }\n",
       "</style>\n",
       "<table border=\"1\" class=\"dataframe\">\n",
       "  <thead>\n",
       "    <tr style=\"text-align: right;\">\n",
       "      <th></th>\n",
       "      <th>Day</th>\n",
       "      <th>Cumulative True Cases</th>\n",
       "      <th>Free</th>\n",
       "      <th>Quarentined</th>\n",
       "      <th>Isolated</th>\n",
       "      <th>Hospitalized</th>\n",
       "      <th>ICU</th>\n",
       "      <th>Recoveries</th>\n",
       "      <th>Deaths</th>\n",
       "      <th>Rough Repo Number</th>\n",
       "      <th>Positively Tested</th>\n",
       "      <th>Negative Tested</th>\n",
       "      <th>CR</th>\n",
       "    </tr>\n",
       "  </thead>\n",
       "  <tbody>\n",
       "  </tbody>\n",
       "</table>\n",
       "</div>"
      ],
      "text/plain": [
       "Empty DataFrame\n",
       "Columns: [Day, Cumulative True Cases, Free, Quarentined, Isolated, Hospitalized, ICU, Recoveries, Deaths, Rough Repo Number, Positively Tested, Negative Tested, CR]\n",
       "Index: []"
      ]
     },
     "metadata": {},
     "execution_count": 6
    }
   ],
   "metadata": {}
  },
  {
   "cell_type": "code",
   "execution_count": 9,
   "source": [
    "CR = 0.5\r\n",
    "#for cr in [0.7,0.6,0.5,0.4,0.45,0.55,0.65,0.75]:\r\n",
    "#for sd in [0.6,0.7,0.8,0.9,1.0,1.1,1.2,1.3]:\r\n",
    "for i in range(1,2):\r\n",
    "    # file='Results/ABM_'+str(cr)+'__SD_Factor_'+str(sd)+'_'+str(i)+'/city_data.csv'\r\n",
    "    file='Results/ABM_'+str(CR)+'_'+str(i)+'/results_df.csv'\r\n",
    "    print(file)\r\n",
    "    df2=pd.read_csv(file)\r\n",
    "    df2['CR'] = CR\r\n",
    "    # df2['SD']=sd\r\n",
    "    df2['Series_No'] = i\r\n",
    "    x1=np.array(df2['Cumulative True Cases'])\r\n",
    "    # x1[1:]=np.array(df2['Cumulative True Cases'][1:])-np.array(df2['Cumulative True Cases'][:215])\r\n",
    "    x2=np.array(df2['Asymptomatic Free'])\r\n",
    "    # x2[1:]=np.array(df2['Asymptomatic Free'][1:])-np.array(df2['Asymptomatic Free'][:215])\r\n",
    "    \r\n",
    "    # df2['delta_True_Cumulative']=abs(x1)\r\n",
    "    # df2['delta_Asymptomatic_Free']=abs(x2)\r\n",
    "    # c=c+1\r\n",
    "    # df=pd.concat([df, df2], ignore_index=True, sort=False)"
   ],
   "outputs": [
    {
     "output_type": "stream",
     "name": "stdout",
     "text": [
      "Results/ABM_0.5_1/results_df.csv\n",
      "Results/ABM_0.5_2/results_df.csv\n"
     ]
    }
   ],
   "metadata": {}
  },
  {
   "cell_type": "code",
   "execution_count": 6,
   "source": [
    "df['delta_True_Cumulative'][df['delta_True_Cumulative']<0]=0\r\n",
    "df['delta_Asymptomatic_Free'][df['delta_Asymptomatic_Free']<0]=0    "
   ],
   "outputs": [
    {
     "output_type": "stream",
     "name": "stderr",
     "text": [
      "C:\\Users\\Admin\\Anaconda3\\lib\\site-packages\\ipykernel_launcher.py:1: SettingWithCopyWarning: \n",
      "A value is trying to be set on a copy of a slice from a DataFrame\n",
      "\n",
      "See the caveats in the documentation: http://pandas.pydata.org/pandas-docs/stable/indexing.html#indexing-view-versus-copy\n",
      "  \"\"\"Entry point for launching an IPython kernel.\n",
      "C:\\Users\\Admin\\Anaconda3\\lib\\site-packages\\ipykernel_launcher.py:2: SettingWithCopyWarning: \n",
      "A value is trying to be set on a copy of a slice from a DataFrame\n",
      "\n",
      "See the caveats in the documentation: http://pandas.pydata.org/pandas-docs/stable/indexing.html#indexing-view-versus-copy\n",
      "  \n"
     ]
    }
   ],
   "metadata": {}
  },
  {
   "cell_type": "code",
   "execution_count": 8,
   "source": [
    "len(df)"
   ],
   "outputs": [
    {
     "output_type": "execute_result",
     "data": {
      "text/plain": [
       "518400"
      ]
     },
     "metadata": {},
     "execution_count": 8
    }
   ],
   "metadata": {}
  },
  {
   "cell_type": "code",
   "execution_count": 7,
   "source": [
    "df.to_csv('sample_v2_22.csv')"
   ],
   "outputs": [],
   "metadata": {}
  },
  {
   "cell_type": "code",
   "execution_count": null,
   "source": [],
   "outputs": [],
   "metadata": {}
  },
  {
   "cell_type": "code",
   "execution_count": null,
   "source": [],
   "outputs": [],
   "metadata": {}
  },
  {
   "cell_type": "code",
   "execution_count": null,
   "source": [],
   "outputs": [],
   "metadata": {}
  },
  {
   "cell_type": "code",
   "execution_count": null,
   "source": [],
   "outputs": [],
   "metadata": {}
  },
  {
   "cell_type": "code",
   "execution_count": null,
   "source": [],
   "outputs": [],
   "metadata": {}
  },
  {
   "cell_type": "code",
   "execution_count": null,
   "source": [],
   "outputs": [],
   "metadata": {}
  },
  {
   "cell_type": "code",
   "execution_count": 3,
   "source": [
    "df3=pd.read_csv('results_new\\Wakanda__CR_0.3__SD_Factor_0.6_1/city_data.csv')"
   ],
   "outputs": [],
   "metadata": {}
  },
  {
   "cell_type": "code",
   "execution_count": 4,
   "source": [
    "x=df3['True Cumulative']"
   ],
   "outputs": [],
   "metadata": {}
  },
  {
   "cell_type": "code",
   "execution_count": 49,
   "source": [
    "df.to_csv('sample_new_sd_cr3.csv')"
   ],
   "outputs": [],
   "metadata": {}
  },
  {
   "cell_type": "code",
   "execution_count": 33,
   "source": [
    "s1=pd.Series([0])"
   ],
   "outputs": [],
   "metadata": {}
  },
  {
   "cell_type": "code",
   "execution_count": 34,
   "source": [
    "x=s1.append(x)"
   ],
   "outputs": [],
   "metadata": {}
  },
  {
   "cell_type": "code",
   "execution_count": 8,
   "source": [
    "plt.figure(figsize=(15, 5), dpi=80)\n",
    "plt.plot(df3['True Cumulative'])"
   ],
   "outputs": [
    {
     "output_type": "execute_result",
     "data": {
      "text/plain": [
       "[<matplotlib.lines.Line2D at 0x1355c1e4630>]"
      ]
     },
     "metadata": {},
     "execution_count": 8
    },
    {
     "output_type": "display_data",
     "data": {
      "image/png": "[encoded data removed]",
      "text/plain": [
       "<Figure size 1200x400 with 1 Axes>"
      ]
     },
     "metadata": {
      "needs_background": "light"
     }
    }
   ],
   "metadata": {}
  },
  {
   "cell_type": "code",
   "execution_count": 9,
   "source": [
    "plt.figure(figsize=(30, 5), dpi=80)\n",
    "plt.plot(df3['True Cumulative'][8*9:])"
   ],
   "outputs": [
    {
     "output_type": "execute_result",
     "data": {
      "text/plain": [
       "[<matplotlib.lines.Line2D at 0x1355c24b4e0>]"
      ]
     },
     "metadata": {},
     "execution_count": 9
    },
    {
     "output_type": "display_data",
     "data": {
      "image/png": "[encoded data removed]",
      "text/plain": [
       "<Figure size 2400x400 with 1 Axes>"
      ]
     },
     "metadata": {
      "needs_background": "light"
     }
    }
   ],
   "metadata": {}
  }
 ],
 "metadata": {
  "kernelspec": {
   "name": "python3",
   "display_name": "Python 3.8.10 64-bit ('pytorch': conda)"
  },
  "language_info": {
   "codemirror_mode": {
    "name": "ipython",
    "version": 3
   },
   "file_extension": ".py",
   "mimetype": "text/x-python",
   "name": "python",
   "nbconvert_exporter": "python",
   "pygments_lexer": "ipython3",
   "version": "3.8.10"
  },
  "interpreter": {
   "hash": "a64cc5d633a46dba4f37b3d299661fe29034eb81d3eed8181da436288122166c"
  }
 },
 "nbformat": 4,
 "nbformat_minor": 2
}