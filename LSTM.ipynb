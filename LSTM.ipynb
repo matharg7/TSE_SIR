{
 "cells": [
  {
   "cell_type": "markdown",
   "source": [
    "This is the LSTM Model"
   ],
   "metadata": {}
  },
  {
   "cell_type": "code",
   "execution_count": 20,
   "source": [
    "import tensorflow as tf\r\n",
    "from tensorflow import keras\r\n",
    "from tensorflow.keras import layers, regularizers\r\n",
    "import pandas as pd\r\n",
    "import numpy as np\r\n",
    "import matplotlib.pyplot as plt\r\n",
    "from helper_functions import preprocess, predictions"
   ],
   "outputs": [],
   "metadata": {}
  },
  {
   "cell_type": "code",
   "execution_count": 8,
   "source": [
    "x_train, y_train, x_test, y_test, len_of_ser, num_windows_ser = preprocess( \"data.csv\", \r\n",
    "    ['Cumulative True Cases','Free','Positively Tested','CR', 'Series_No'], \r\n",
    "    ['Cumulative True Cases','Free','Positively Tested', 'Series_No'], \r\n",
    "    window_in = 7, \r\n",
    "    window_out = 1, \r\n",
    "    data_div_frac = 0.97, \r\n",
    "    popu_size = 80000\r\n",
    ")"
   ],
   "outputs": [],
   "metadata": {}
  },
  {
   "cell_type": "code",
   "execution_count": 9,
   "source": [
    "def LSTM_MODEL():\r\n",
    "    model = keras.Sequential(\r\n",
    "        [\r\n",
    "                               layers.LSTM(64, return_sequences=True, input_shape = (7, 4), activation='tanh', recurrent_activation='sigmoid', recurrent_dropout=0, unroll=False, use_bias=True),\r\n",
    "                               layers.LSTM(128, return_sequences=True, activation='tanh', recurrent_activation='sigmoid', recurrent_dropout=0, unroll=False, use_bias=True),\r\n",
    "                               layers.LSTM(64, return_sequences=False, activation='tanh', recurrent_activation='sigmoid', recurrent_dropout=0, unroll=False, use_bias=True),\r\n",
    "                               layers.Dense(3, activation='linear')\r\n",
    "        ]\r\n",
    "    )\r\n",
    "    print(model.summary())\r\n",
    "    return model "
   ],
   "outputs": [],
   "metadata": {}
  },
  {
   "cell_type": "code",
   "execution_count": 10,
   "source": [
    "model = LSTM_MODEL()\r\n",
    "y_train = y_train.reshape((-1, 3*1)) #for our windowsize and model. to be updated\r\n",
    "y_test = y_test.reshape((-1, 3*1))"
   ],
   "outputs": [
    {
     "output_type": "stream",
     "name": "stdout",
     "text": [
      "Model: \"sequential\"\n",
      "_________________________________________________________________\n",
      "Layer (type)                 Output Shape              Param #   \n",
      "=================================================================\n",
      "lstm (LSTM)                  (None, 7, 64)             17664     \n",
      "_________________________________________________________________\n",
      "lstm_1 (LSTM)                (None, 7, 128)            98816     \n",
      "_________________________________________________________________\n",
      "lstm_2 (LSTM)                (None, 64)                49408     \n",
      "_________________________________________________________________\n",
      "dense (Dense)                (None, 3)                 195       \n",
      "=================================================================\n",
      "Total params: 166,083\n",
      "Trainable params: 166,083\n",
      "Non-trainable params: 0\n",
      "_________________________________________________________________\n",
      "None\n"
     ]
    }
   ],
   "metadata": {}
  },
  {
   "cell_type": "code",
   "execution_count": 12,
   "source": [
    "model.compile(\r\n",
    "    loss = 'mae',\r\n",
    "    optimizer = keras.optimizers.Adam(0.005),\r\n",
    "    metrics = ['accuracy']\r\n",
    ")\r\n",
    "\r\n",
    "model.fit(\r\n",
    "    x_train,\r\n",
    "    y_train,\r\n",
    "    batch_size = 32,\r\n",
    "    epochs = 1,\r\n",
    "    verbose = 2\r\n",
    ")"
   ],
   "outputs": [
    {
     "output_type": "stream",
     "name": "stdout",
     "text": [
      "11465/11465 - 78s - loss: 5.7426e-04 - accuracy: 0.8108\n"
     ]
    },
    {
     "output_type": "execute_result",
     "data": {
      "text/plain": [
       "<tensorflow.python.keras.callbacks.History at 0x236987e11f0>"
      ]
     },
     "metadata": {},
     "execution_count": 12
    }
   ],
   "metadata": {}
  },
  {
   "cell_type": "code",
   "execution_count": 14,
   "source": [
    "y_pred, mae = predictions(x_test, y_test, model, len_of_ser, num_windows_ser, window_in = 7, window_out = 1)"
   ],
   "outputs": [
    {
     "output_type": "stream",
     "name": "stdout",
     "text": [
      "(11252, 3)\n",
      "(11252, 3)\n",
      "tf.Tensor(577.7875908246083, shape=(), dtype=float64)\n"
     ]
    }
   ],
   "metadata": {}
  },
  {
   "cell_type": "code",
   "execution_count": null,
   "source": [],
   "outputs": [],
   "metadata": {}
  }
 ],
 "metadata": {
  "orig_nbformat": 4,
  "language_info": {
   "name": "python",
   "version": "3.8.10",
   "mimetype": "text/x-python",
   "codemirror_mode": {
    "name": "ipython",
    "version": 3
   },
   "pygments_lexer": "ipython3",
   "nbconvert_exporter": "python",
   "file_extension": ".py"
  },
  "kernelspec": {
   "name": "python3",
   "display_name": "Python 3.8.3 64-bit ('tensorflow2.4': conda)"
  },
  "interpreter": {
   "hash": "b9aeb6ebf213587d99caa443311dde845e31532d5110df2778395d6f711aa6f6"
  }
 },
 "nbformat": 4,
 "nbformat_minor": 2
}